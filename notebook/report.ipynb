{
  "cells": [
    {
      "cell_type": "markdown",
      "metadata": {},
      "source": [
        "## Population figures for countries, regions (e.g. Asia) and the world\n",
        "\n",
        "Members: Alaica Pineda, Hans Lawrence Del Rosario\n",
        "\n",
        "Dataset URL = https://datahub.io/core/population?fbclid=IwY2xjawGJO4ZleHRuA2FlbQIxMAABHTbe8Q__nbu9jnwduB92JXX8aj5E1wg73kl1rFDOGSeB98l5SSPT_sJVRQ_aem_7jgC_1x4WnwXtLER93PFzA"
      ]
    },
    {
      "cell_type": "markdown",
      "metadata": {},
      "source": [
        "### Import Libraries"
      ]
    },
    {
      "cell_type": "code",
      "execution_count": null,
      "metadata": {
        "colab": {
          "background_save": true
        },
        "id": "2fdD8ZJDwu68"
      },
      "outputs": [],
      "source": [
        "import pandas as pd\n",
        "import numpy as np\n",
        "import seaborn as sns\n",
        "import matplotlib.pyplot as plt\n",
        "from sklearn.model_selection import train_test_split\n",
        "from sklearn.linear_model import LinearRegression\n",
        "from sklearn.tree import DecisionTreeRegressor\n",
        "from sklearn.ensemble import RandomForestRegressor\n",
        "from sklearn.svm import SVR\n",
        "from sklearn.metrics import  mean_absolute_error, r2_score, accuracy_score, precision_score, recall_score\n",
        "from sklearn.linear_model import LogisticRegression\n",
        "from sklearn.pipeline import Pipeline\n",
        "from sklearn.metrics import mean_absolute_error, r2_score, accuracy_score, precision_score, recall_score"
      ]
    },
    {
      "cell_type": "code",
      "execution_count": null,
      "metadata": {
        "colab": {
          "background_save": true
        },
        "id": "cDtw-KzdOCV4"
      },
      "outputs": [],
      "source": [
        "dataset_url = 'https://raw.githubusercontent.com/datasets/population/refs/heads/main/data/population.csv'\n"
      ]
    },
    {
      "cell_type": "markdown",
      "metadata": {
        "id": "n1rFnotGNzuL"
      },
      "source": [
        "## Exploratory Data Analysis"
      ]
    },
    {
      "cell_type": "code",
      "execution_count": null,
      "metadata": {
        "colab": {
          "background_save": true
        },
        "id": "GoRE17NKOjZY"
      },
      "outputs": [],
      "source": [
        "population = pd.read_csv(dataset_url)\n",
        "population.head()"
      ]
    },
    {
      "cell_type": "code",
      "execution_count": null,
      "metadata": {
        "colab": {
          "background_save": true
        },
        "id": "MhF5UftqPC9p"
      },
      "outputs": [],
      "source": [
        "population.dtypes"
      ]
    },
    {
      "cell_type": "code",
      "execution_count": null,
      "metadata": {
        "colab": {
          "background_save": true
        },
        "id": "FxI86r-EPMqD"
      },
      "outputs": [],
      "source": [
        "population['Year'].describe()"
      ]
    },
    {
      "cell_type": "code",
      "execution_count": null,
      "metadata": {
        "colab": {
          "background_save": true
        },
        "id": "OJcDFckWPaGu"
      },
      "outputs": [],
      "source": [
        "population.tail()"
      ]
    },
    {
      "cell_type": "code",
      "execution_count": null,
      "metadata": {
        "colab": {
          "background_save": true
        },
        "id": "J71bTobCQm2M"
      },
      "outputs": [],
      "source": [
        "# Sanity check\n",
        "population.shape"
      ]
    },
    {
      "cell_type": "code",
      "execution_count": null,
      "metadata": {
        "colab": {
          "background_save": true
        },
        "id": "N-WCsJSxQ2f_"
      },
      "outputs": [],
      "source": [
        "population.info()"
      ]
    },
    {
      "cell_type": "code",
      "execution_count": null,
      "metadata": {
        "colab": {
          "background_save": true
        },
        "id": "BMGaDyzfQQgG"
      },
      "outputs": [],
      "source": [
        "missing_values = population.isnull().sum()\n",
        "missing_values"
      ]
    },
    {
      "cell_type": "code",
      "execution_count": null,
      "metadata": {
        "colab": {
          "background_save": true
        },
        "id": "0N0vF4SeWxV_"
      },
      "outputs": [],
      "source": [
        "# duplicates\n",
        "population.duplicated().sum()"
      ]
    },
    {
      "cell_type": "code",
      "execution_count": null,
      "metadata": {
        "colab": {
          "background_save": true
        },
        "id": "8eJpzSM3YjvL"
      },
      "outputs": [],
      "source": [
        "unique_values = population['Country Name'].unique()\n",
        "unique_values"
      ]
    },
    {
      "cell_type": "markdown",
      "metadata": {
        "id": "3YudpnXwZUfA"
      },
      "source": [
        "## Exploratory Data Analysis"
      ]
    },
    {
      "cell_type": "code",
      "execution_count": null,
      "metadata": {
        "colab": {
          "background_save": true
        },
        "id": "lAhVqS_nYLbn"
      },
      "outputs": [],
      "source": [
        "population.describe().T"
      ]
    },
    {
      "cell_type": "code",
      "execution_count": null,
      "metadata": {
        "colab": {
          "background_save": true
        },
        "id": "OZ7Wl409aB76"
      },
      "outputs": [],
      "source": [
        "population.describe(include=\"object\")"
      ]
    },
    {
      "cell_type": "code",
      "execution_count": null,
      "metadata": {
        "colab": {
          "background_save": true
        },
        "id": "k6UGimiWaVzW"
      },
      "outputs": [],
      "source": [
        "population['Year'] = pd.to_datetime(population['Year'], format='%Y')\n",
        "yearly_values = population.groupby(population['Year'].dt.year)['Value'].sum()\n",
        "yearly_values"
      ]
    },
    {
      "cell_type": "markdown",
      "metadata": {
        "id": "_HhudMOwa61k"
      },
      "source": [
        "## Visualization"
      ]
    },
    {
      "cell_type": "code",
      "execution_count": null,
      "metadata": {
        "colab": {
          "background_save": true
        },
        "id": "BxseHqvia4S8"
      },
      "outputs": [],
      "source": [
        "# 1. Population Growth Over Time\n",
        "plt.figure(figsize=(10, 5))\n",
        "plt.plot(yearly_values.index, yearly_values.values)\n",
        "plt.title('Global Population Growth Over Time')\n",
        "plt.xlabel('Year')\n",
        "plt.ylabel('Total Population')\n",
        "plt.show()\n",
        "\n",
        "# 2. Top 10 Countries by Population\n",
        "top_countries = population.groupby('Country Name')['Value'].max().nlargest(10)\n",
        "top_countries.plot(kind='bar', title='Top 10 Countries by Population')\n",
        "plt.show()\n",
        "\n",
        "# 3. Population Comparison for Selected Regions\n",
        "selected_countries = population[population['Country Name'].isin(['India', 'China', 'USA'])]\n",
        "for country in selected_countries['Country Name'].unique():\n",
        "    country_data = selected_countries[selected_countries['Country Name'] == country]\n",
        "    plt.plot(country_data['Year'], country_data['Value'], label=country)\n",
        "plt.legend()\n",
        "plt.title('Population value yearly_values of Selected Countries')\n",
        "plt.show()"
      ]
    },
    {
      "cell_type": "code",
      "execution_count": null,
      "metadata": {
        "colab": {
          "background_save": true
        },
        "id": "kPuo7qv6gNMV"
      },
      "outputs": [],
      "source": [
        "# List of regions to plot against population data\n",
        "regions = [\n",
        "    'East Asia & Pacific (excluding high income)',\n",
        "    'Early-demographic dividend',\n",
        "    'East Asia & Pacific',\n",
        "    'Europe & Central Asia (excluding high income)',\n",
        "    'Europe & Central Asia',\n",
        "    'Ecuador',\n",
        "    'Egypt, Arab Rep.',\n",
        "    'Philippines'\n",
        "]\n",
        "\n",
        "# Scatter plot for each region against a chosen population variable\n",
        "for region in regions:\n",
        "    sns.scatterplot(data=population[population['Country Name'] == region],\n",
        "                     x='Year',\n",
        "                     y='Value')  # Use appropriate columns from your dataset\n",
        "    plt.title(f'Scatter Plot of {region} vs Population')\n",
        "    plt.xlabel('Year')\n",
        "    plt.ylabel('Population')\n",
        "    plt.show()\n"
      ]
    },
    {
      "cell_type": "markdown",
      "metadata": {
        "id": "_kD3RXNHb-hA"
      },
      "source": [
        "## Model Development"
      ]
    },
    {
      "cell_type": "code",
      "execution_count": null,
      "metadata": {
        "colab": {
          "background_save": true
        },
        "id": "rrWqCq85b_n2",
        "outputId": "c47ea199-4e58-45f4-e14b-4ebb1e1caaaf"
      },
      "outputs": [
        {
          "name": "stderr",
          "output_type": "stream",
          "text": [
            "/usr/local/lib/python3.10/dist-packages/sklearn/linear_model/_logistic.py:469: ConvergenceWarning: lbfgs failed to converge (status=1):\n",
            "STOP: TOTAL NO. of ITERATIONS REACHED LIMIT.\n",
            "\n",
            "Increase the number of iterations (max_iter) or scale the data as shown in:\n",
            "    https://scikit-learn.org/stable/modules/preprocessing.html\n",
            "Please also refer to the documentation for alternative solver options:\n",
            "    https://scikit-learn.org/stable/modules/linear_model.html#logistic-regression\n",
            "  n_iter_i = _check_optimize_result(\n"
          ]
        }
      ],
      "source": [
        "X = population[['Year']]\n",
        "y = population['Value']\n",
        "X_train, X_test, y_train, y_test = train_test_split(X, y, test_size=0.2, random_state=0)\n",
        "\n",
        "# 1. Linear Regression\n",
        "lr = LinearRegression().fit(X_train, y_train)\n",
        "\n",
        "# 2. Decision Tree\n",
        "dt = DecisionTreeRegressor().fit(X_train, y_train)\n",
        "\n",
        "# 3. Random Forest\n",
        "rf = RandomForestRegressor().fit(X_train, y_train)\n",
        "\n",
        "# 4. Support Vector Machine\n",
        "lrr= LogisticRegression(max_iter=1000).fit(X_train, y_train)"
      ]
    },
    {
      "cell_type": "markdown",
      "metadata": {
        "id": "0cZVFgjYhqqY"
      },
      "source": [
        "## Model Evaluation"
      ]
    },
    {
      "cell_type": "code",
      "execution_count": null,
      "metadata": {
        "id": "JN6MJGJzY3ET"
      },
      "outputs": [],
      "source": [
        "population = population.dropna()\n",
        "population['Growth'] = (population['Value'].diff() > 0).astype(int)\n",
        "\n",
        "X = population[['Year']]\n",
        "y = population['Growth']\n",
        "\n",
        "# Split the data\n",
        "X_train, X_test, y_train, y_test = train_test_split(X, y, test_size=0.2, random_state=42)\n",
        "\n",
        "# Initialize and train the model\n",
        "model = LogisticRegression()\n",
        "model.fit(X_train, y_train)\n",
        "\n",
        "# Make predictions\n",
        "y_pred = model.predict(X_test)\n",
        "\n",
        "# Calculate evaluation metrics\n",
        "accuracy = accuracy_score(y_test, y_pred)\n",
        "print(f\"Model Accuracy: {accuracy * 100:.2f}%\")\n",
        "\n",
        "precision = precision_score(y_test, y_pred)\n",
        "print(f\"Model Precision: {precision * 100:.2f}%\")\n",
        "\n",
        "recall = recall_score(y_test, y_pred)\n",
        "print(f\"Model Recall: {recall * 100:.2f}%\")\n"
      ]
    },
    {
      "cell_type": "code",
      "execution_count": null,
      "metadata": {
        "id": "Q6l_TBYEY4rP"
      },
      "outputs": [],
      "source": [
        "models = {\n",
        "    'Decision Tree': DecisionTreeClassifier(),\n",
        "    'Random Forest': RandomForestClassifier(n_estimators=100),  # More trees for better performance\n",
        "    'Linear Regression': LinearRegression()\n",
        "}\n",
        "\n",
        "for name, model in models.items():\n",
        "    model.fit(X_train, y_train)\n",
        "    y_pred = model.predict(X_test)\n",
        "\n",
        "    # For Linear Regression, we need to convert predictions to binary for accuracy metrics\n",
        "    if name == 'Linear Regression':\n",
        "        y_pred_binary = (y_pred > 0.5).astype(int)\n",
        "    else:\n",
        "        y_pred_binary = y_pred\n",
        "\n",
        "    # Calculate evaluation metrics\n",
        "    accuracy = accuracy_score(y_test, y_pred_binary)\n",
        "    precision = precision_score(y_test, y_pred_binary)\n",
        "    recall = recall_score(y_test, y_pred_binary)\n",
        "\n",
        "    print(f\"{name} - Model Accuracy: {accuracy * 100:.2f}%\")\n",
        "    print(f\"{name} - Model Precision: {precision * 100:.2f}%\")\n",
        "    print(f\"{name} - Model Recall: {recall * 100:.2f}%\")"
      ]
    }
  ],
  "metadata": {
    "colab": {
      "provenance": []
    },
    "kernelspec": {
      "display_name": "Python 3",
      "name": "python3"
    },
    "language_info": {
      "name": "python"
    }
  },
  "nbformat": 4,
  "nbformat_minor": 0
}
